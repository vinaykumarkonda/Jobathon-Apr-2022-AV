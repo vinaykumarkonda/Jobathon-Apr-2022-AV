{
  "nbformat": 4,
  "nbformat_minor": 0,
  "metadata": {
    "colab": {
      "name": "JOB_A_THON_April_2022_Solution_v2.ipynb",
      "provenance": [],
      "collapsed_sections": [],
      "toc_visible": true
    },
    "kernelspec": {
      "name": "python3",
      "display_name": "Python 3"
    },
    "language_info": {
      "name": "python"
    }
  },
  "cells": [
    {
      "cell_type": "markdown",
      "source": [
        "# Load Packages"
      ],
      "metadata": {
        "id": "lbNc_sqoWAQx"
      }
    },
    {
      "cell_type": "code",
      "execution_count": null,
      "metadata": {
        "id": "VmK2QSsWrlqI"
      },
      "outputs": [],
      "source": [
        "import warnings\n",
        "warnings.filterwarnings('ignore')\n",
        "\n",
        "# data processing\n",
        "import pandas as pd\n",
        "from datetime import datetime\n",
        "import numpy as np\n",
        "\n",
        "# plotting\n",
        "import matplotlib.pyplot as plt\n",
        "import seaborn as sns\n",
        "\n",
        "# models\n",
        "from sklearn.linear_model import LinearRegression\n",
        "from sklearn.svm import SVR\n",
        "from sklearn.tree import DecisionTreeRegressor\n",
        "from sklearn.ensemble import RandomForestRegressor\n",
        "import xgboost as xg\n",
        "\n",
        "# metrics\n",
        "from sklearn.metrics import mean_squared_error\n"
      ]
    },
    {
      "cell_type": "markdown",
      "source": [
        "# Load Data"
      ],
      "metadata": {
        "id": "fDz-ieGDWFT8"
      }
    },
    {
      "cell_type": "code",
      "source": [
        "train_file_path = '/content/sample_data/train_E1GspfA.csv'\n",
        "test_file_path = '/content/sample_data/test_6QvDdzb.csv'\n",
        "\n",
        "# load data by parsing date feature\n",
        "df = pd.read_csv(train_file_path, parse_dates=['date'],infer_datetime_format=True)\n",
        "test_df = pd.read_csv(test_file_path, parse_dates=['date'],infer_datetime_format=True)"
      ],
      "metadata": {
        "id": "47VrL-mAr9UK"
      },
      "execution_count": 2,
      "outputs": []
    },
    {
      "cell_type": "markdown",
      "source": [
        "# Basic EDA"
      ],
      "metadata": {
        "id": "lZUvwKZzWQX4"
      }
    },
    {
      "cell_type": "code",
      "source": [
        "### Check data type and missing values\n",
        "df.info()"
      ],
      "metadata": {
        "colab": {
          "base_uri": "https://localhost:8080/"
        },
        "id": "mqXBYyyBsD5z",
        "outputId": "1929e698-c7e7-4372-a853-3f92dca742a9"
      },
      "execution_count": 3,
      "outputs": [
        {
          "output_type": "stream",
          "name": "stdout",
          "text": [
            "<class 'pandas.core.frame.DataFrame'>\n",
            "RangeIndex: 18247 entries, 0 to 18246\n",
            "Data columns (total 3 columns):\n",
            " #   Column  Non-Null Count  Dtype         \n",
            "---  ------  --------------  -----         \n",
            " 0   date    18247 non-null  datetime64[ns]\n",
            " 1   hour    18247 non-null  int64         \n",
            " 2   demand  18247 non-null  int64         \n",
            "dtypes: datetime64[ns](1), int64(2)\n",
            "memory usage: 427.8 KB\n"
          ]
        }
      ]
    },
    {
      "cell_type": "code",
      "source": [
        "# Traget variable basic statistics\n",
        "df.demand.describe()"
      ],
      "metadata": {
        "colab": {
          "base_uri": "https://localhost:8080/"
        },
        "id": "dkmjcyXpRbeA",
        "outputId": "46f4f4a4-b4e0-4339-ddb6-b038cfbc6c9c"
      },
      "execution_count": 4,
      "outputs": [
        {
          "output_type": "execute_result",
          "data": {
            "text/plain": [
              "count    18247.000000\n",
              "mean        73.991451\n",
              "std         41.678988\n",
              "min          1.000000\n",
              "25%         43.000000\n",
              "50%         71.000000\n",
              "75%         98.000000\n",
              "max        379.000000\n",
              "Name: demand, dtype: float64"
            ]
          },
          "metadata": {},
          "execution_count": 4
        }
      ]
    },
    {
      "cell_type": "code",
      "source": [
        "# Distribution of Target Variable\n",
        "plt.figure(figsize=(12, 6))\n",
        "plt.plot(df.demand.rolling(180).mean())"
      ],
      "metadata": {
        "colab": {
          "base_uri": "https://localhost:8080/",
          "height": 392
        },
        "id": "7NLnykvmWw0Z",
        "outputId": "7e64b43f-735e-494f-acbc-cbd87ab317ee"
      },
      "execution_count": null,
      "outputs": [
        {
          "output_type": "execute_result",
          "data": {
            "text/plain": [
              "[<matplotlib.lines.Line2D at 0x7fb9a5a385d0>]"
            ]
          },
          "metadata": {},
          "execution_count": 5
        },
        {
          "output_type": "display_data",
          "data": {
            "text/plain": [
              "<Figure size 864x432 with 1 Axes>"
            ],
            "image/png": "[encoded data removed]"
          },
          "metadata": {
            "needs_background": "light"
          }
        }
      ]
    },
    {
      "cell_type": "markdown",
      "source": [
        "# Train-Validaion split (80:20)"
      ],
      "metadata": {
        "id": "Kactm64LZmHQ"
      }
    },
    {
      "cell_type": "code",
      "source": [
        "split_ratio = .8\n",
        "split_index = round(df.shape[0]*split_ratio)\n",
        "train_df = df[:split_index]\n",
        "validation_df = df[split_index:]\n",
        "\n",
        "print('Total df shape :', df.shape)\n",
        "print('Train df shape :', train_df.shape)\n",
        "print('Validation df shape :', validation_df.shape)"
      ],
      "metadata": {
        "colab": {
          "base_uri": "https://localhost:8080/"
        },
        "id": "Ol647Mztxzrc",
        "outputId": "45270383-fd4e-4ab4-8e7e-12a138dce277"
      },
      "execution_count": 9,
      "outputs": [
        {
          "output_type": "stream",
          "name": "stdout",
          "text": [
            "Total df shape : (18247, 3)\n",
            "Train df shape : (14598, 3)\n",
            "Validation df shape : (3649, 3)\n"
          ]
        }
      ]
    },
    {
      "cell_type": "markdown",
      "source": [
        "# EDA"
      ],
      "metadata": {
        "id": "z-QPioGkv7jS"
      }
    },
    {
      "cell_type": "code",
      "source": [
        "train_df_by_date = train_df.groupby('date')[['demand']].mean()\n",
        "print(train_df_by_date.shape)\n",
        "plt.plot(train_df_by_date['demand'].rolling(30).mean())"
      ],
      "metadata": {
        "colab": {
          "base_uri": "https://localhost:8080/",
          "height": 302
        },
        "id": "kpsO8bWzv-AA",
        "outputId": "7dde4091-6339-4ad6-b162-df0ca08832d2"
      },
      "execution_count": null,
      "outputs": [
        {
          "output_type": "stream",
          "name": "stdout",
          "text": [
            "(725, 1)\n"
          ]
        },
        {
          "output_type": "execute_result",
          "data": {
            "text/plain": [
              "[<matplotlib.lines.Line2D at 0x7fb9a5457f90>]"
            ]
          },
          "metadata": {},
          "execution_count": 11
        },
        {
          "output_type": "display_data",
          "data": {
            "text/plain": [
              "<Figure size 432x288 with 1 Axes>"
            ],
            "image/png": "[encoded data removed]"
          },
          "metadata": {
            "needs_background": "light"
          }
        }
      ]
    },
    {
      "cell_type": "code",
      "source": [
        "train_df_by_hour = train_df.groupby('hour')[['demand']].mean()\n",
        "print(train_df_by_hour.shape)\n",
        "plt.plot(train_df_by_hour)"
      ],
      "metadata": {
        "colab": {
          "base_uri": "https://localhost:8080/",
          "height": 302
        },
        "id": "Lfng2A4OwS37",
        "outputId": "9f86ef91-8859-48c6-fe78-fcd9114053fb"
      },
      "execution_count": null,
      "outputs": [
        {
          "output_type": "stream",
          "name": "stdout",
          "text": [
            "(24, 1)\n"
          ]
        },
        {
          "output_type": "execute_result",
          "data": {
            "text/plain": [
              "[<matplotlib.lines.Line2D at 0x7fb9a5401150>]"
            ]
          },
          "metadata": {},
          "execution_count": 12
        },
        {
          "output_type": "display_data",
          "data": {
            "text/plain": [
              "<Figure size 432x288 with 1 Axes>"
            ],
            "image/png": "[encoded data removed]"
          },
          "metadata": {
            "needs_background": "light"
          }
        }
      ]
    },
    {
      "cell_type": "code",
      "source": [
        "train_df_by_month = train_df.groupby('month')[['demand']].mean()\n",
        "print(train_df_by_month.shape)\n",
        "train_df_by_month.plot()"
      ],
      "metadata": {
        "colab": {
          "base_uri": "https://localhost:8080/",
          "height": 315
        },
        "id": "SaOUHMcBws71",
        "outputId": "c1af69ed-df6c-4d21-d0e9-18a10f2efcb4"
      },
      "execution_count": null,
      "outputs": [
        {
          "output_type": "stream",
          "name": "stdout",
          "text": [
            "(12, 1)\n"
          ]
        },
        {
          "output_type": "execute_result",
          "data": {
            "text/plain": [
              "<matplotlib.axes._subplots.AxesSubplot at 0x7fb9a537b910>"
            ]
          },
          "metadata": {},
          "execution_count": 13
        },
        {
          "output_type": "display_data",
          "data": {
            "text/plain": [
              "<Figure size 432x288 with 1 Axes>"
            ],
            "image/png": "[encoded data removed]"
          },
          "metadata": {
            "needs_background": "light"
          }
        }
      ]
    },
    {
      "cell_type": "code",
      "source": [
        "train_df_by_weekday = train_df.groupby('weekday')[['demand']].mean()\n",
        "print(train_df_by_weekday.shape)\n",
        "train_df_by_weekday.plot()"
      ],
      "metadata": {
        "colab": {
          "base_uri": "https://localhost:8080/",
          "height": 315
        },
        "id": "WAmRU33QwwKD",
        "outputId": "24d8ce16-880c-4a4c-ef31-b94474df9897"
      },
      "execution_count": null,
      "outputs": [
        {
          "output_type": "stream",
          "name": "stdout",
          "text": [
            "(7, 1)\n"
          ]
        },
        {
          "output_type": "execute_result",
          "data": {
            "text/plain": [
              "<matplotlib.axes._subplots.AxesSubplot at 0x7fb9a542ed90>"
            ]
          },
          "metadata": {},
          "execution_count": 14
        },
        {
          "output_type": "display_data",
          "data": {
            "text/plain": [
              "<Figure size 432x288 with 1 Axes>"
            ],
            "image/png": "[encoded data removed]"
          },
          "metadata": {
            "needs_background": "light"
          }
        }
      ]
    },
    {
      "cell_type": "code",
      "source": [
        "train_df_by_hour_month_day = train_df.groupby(['hour', 'month', 'day'])['demand'].mean().reset_index()\n",
        "print(train_df_by_hour_month_day.shape)\n",
        "train_df_by_hour_month_day['demand'].rolling(30).mean().plot()"
      ],
      "metadata": {
        "colab": {
          "base_uri": "https://localhost:8080/",
          "height": 302
        },
        "id": "TUBhBEK4wymL",
        "outputId": "50a08e48-344c-47c8-d954-d7a9b07a02ab"
      },
      "execution_count": null,
      "outputs": [
        {
          "output_type": "stream",
          "name": "stdout",
          "text": [
            "(8033, 4)\n"
          ]
        },
        {
          "output_type": "execute_result",
          "data": {
            "text/plain": [
              "<matplotlib.axes._subplots.AxesSubplot at 0x7fb9a5265590>"
            ]
          },
          "metadata": {},
          "execution_count": 15
        },
        {
          "output_type": "display_data",
          "data": {
            "text/plain": [
              "<Figure size 432x288 with 1 Axes>"
            ],
            "image/png": "[encoded data removed]"
          },
          "metadata": {
            "needs_background": "light"
          }
        }
      ]
    },
    {
      "cell_type": "markdown",
      "source": [
        "# Feature Engineering"
      ],
      "metadata": {
        "id": "BLnBcM5sZ-Cg"
      }
    },
    {
      "cell_type": "code",
      "source": [
        "def get_date_features(train_data, validation_data):\n",
        "  # Month\n",
        "  train_data['month'] = train_data.date.apply(lambda d: d.month)\n",
        "  validation_data['month'] = validation_data.date.apply(lambda d: d.month)\n",
        "  \n",
        "  # Weekday\n",
        "  train_data['weekday'] = train_data.date.apply(lambda d: d.weekday())\n",
        "  validation_data['weekday'] = validation_data.date.apply(lambda d: d.weekday())\n",
        "  \n",
        "  # Day\n",
        "  train_data['day'] = train_data.date.apply(lambda d: d.day)\n",
        "  validation_data['day'] = validation_data.date.apply(lambda d: d.day)\n",
        "\n",
        "  # IsWeekend\n",
        "  train_data['IsWeekend'] = train_data.weekday.apply(lambda d: 1 if d in [5,6] else 0)\n",
        "  validation_data['IsWeekend'] = validation_data.weekday.apply(lambda d: 1 if d in [5,6] else 0)\n",
        "\n",
        "  return train_data, validation_data\n"
      ],
      "metadata": {
        "id": "Zph1uFf8kDSL"
      },
      "execution_count": 5,
      "outputs": []
    },
    {
      "cell_type": "code",
      "source": [
        "def get_statistical_features(train_data, validation_data):\n",
        "\n",
        "  # month wise mean\n",
        "  month_mean_map = {int(month):demand_mean for month, demand_mean in train_data.groupby('month')[['demand']].mean().reset_index().values}\n",
        "  train_data['month_mean'] = train_data.month.map(month_mean_map)\n",
        "  validation_data['month_mean'] = validation_data.month.map(month_mean_map)\n",
        "  \n",
        "  # weekday wise mean\n",
        "  weekday_mean_map = {int(weekday):demand_mean for weekday, demand_mean in train_data.groupby('weekday')[['demand']].mean().reset_index().values}\n",
        "  train_data['weekday_mean'] = train_data.weekday.map(weekday_mean_map)\n",
        "  validation_data['weekday_mean'] = validation_data.weekday.map(weekday_mean_map)\n",
        "  \n",
        "  # hourly mean\n",
        "  hourly_mean_map = {int(hour):demand_mean for hour, demand_mean in train_data.groupby('hour')[['demand']].mean().reset_index().values}\n",
        "  train_data['hourly_mean'] = train_data.hour.map(hourly_mean_map)\n",
        "  validation_data['hourly_mean'] = validation_data.hour.map(hourly_mean_map)\n",
        "\n",
        "  # month wise min\n",
        "  month_min_map = {int(month):demand_min for month, demand_min in train_data.groupby('month')[['demand']].min().reset_index().values}\n",
        "  train_data['month_min'] = train_data.month.map(month_min_map)\n",
        "  validation_data['month_min'] = validation_data.month.map(month_min_map)\n",
        "  \n",
        "  # weekday wise min\n",
        "  weekday_min_map = {int(weekday):demand_min for weekday, demand_min in train_data.groupby('weekday')[['demand']].min().reset_index().values}\n",
        "  train_data['weekday_min'] = train_data.weekday.map(weekday_min_map)\n",
        "  validation_data['weekday_min'] = validation_data.weekday.map(weekday_min_map)\n",
        "  \n",
        "  # hourly min\n",
        "  hourly_min_map = {int(hour):demand_min for hour, demand_min in train_data.groupby('hour')[['demand']].min().reset_index().values}\n",
        "  train_data['hourly_min'] = train_data.hour.map(hourly_min_map)\n",
        "  validation_data['hourly_min'] = validation_data.hour.map(hourly_min_map)\n",
        "\n",
        "  # month wise max\n",
        "  month_max_map = {int(month):demand_max for month, demand_max in train_data.groupby('month')[['demand']].max().reset_index().values}\n",
        "  train_data['month_max'] = train_data.month.map(month_max_map)\n",
        "  validation_data['month_max'] = validation_data.month.map(month_max_map)\n",
        "  \n",
        "  # weekday wise max\n",
        "  weekday_max_map = {int(weekday):demand_max for weekday, demand_max in train_data.groupby('weekday')[['demand']].max().reset_index().values}\n",
        "  train_data['weekday_max'] = train_data.weekday.map(weekday_max_map)\n",
        "  validation_data['weekday_max'] = validation_data.weekday.map(weekday_max_map)\n",
        "  \n",
        "  # hourly max\n",
        "  hourly_max_map = {int(hour):demand_max for hour, demand_max in train_data.groupby('hour')[['demand']].max().reset_index().values}\n",
        "  train_data['hourly_max'] = train_data.hour.map(hourly_max_map)\n",
        "  validation_data['hourly_max'] = validation_data.hour.map(hourly_max_map)\n",
        "\n",
        "  return train_data, validation_data\n",
        "  "
      ],
      "metadata": {
        "id": "q4kRXKQ-aHkp"
      },
      "execution_count": 6,
      "outputs": []
    },
    {
      "cell_type": "code",
      "source": [
        "# extraction of features\n",
        "train_df, validation_df = get_date_features(train_df, validation_df)\n",
        "train_df, validation_df = get_statistical_features(train_df, validation_df)"
      ],
      "metadata": {
        "id": "JC9KfczibWPP"
      },
      "execution_count": 10,
      "outputs": []
    },
    {
      "cell_type": "code",
      "source": [
        "print('After Feature Extraction :',train_df.shape)\n",
        "train_df.head()"
      ],
      "metadata": {
        "colab": {
          "base_uri": "https://localhost:8080/",
          "height": 375
        },
        "id": "B4PWXvMjghFd",
        "outputId": "33787abb-bef1-4154-9aee-334140d8cf09"
      },
      "execution_count": 11,
      "outputs": [
        {
          "output_type": "stream",
          "name": "stdout",
          "text": [
            "After Feature Extraction : (14598, 16)\n"
          ]
        },
        {
          "output_type": "execute_result",
          "data": {
            "text/plain": [
              "        date  hour  demand  month  weekday  day  IsWeekend  month_mean  \\\n",
              "0 2018-08-18     9      91      8        5   18          1   62.810599   \n",
              "1 2018-08-18    10      21      8        5   18          1   62.810599   \n",
              "2 2018-08-18    13      23      8        5   18          1   62.810599   \n",
              "3 2018-08-18    14     104      8        5   18          1   62.810599   \n",
              "4 2018-08-18    15      81      8        5   18          1   62.810599   \n",
              "\n",
              "   weekday_mean  hourly_mean  month_min  weekday_min  hourly_min  month_max  \\\n",
              "0     85.219729    67.789548          2            1           5        147   \n",
              "1     85.219729    71.651261          2            1           5        147   \n",
              "2     85.219729    89.341226          2            1           5        147   \n",
              "3     85.219729    88.967832          2            1           6        147   \n",
              "4     85.219729    90.808067          2            1           2        147   \n",
              "\n",
              "   weekday_max  hourly_max  \n",
              "0          379         200  \n",
              "1          379         232  \n",
              "2          379         321  \n",
              "3          379         289  \n",
              "4          379         366  "
            ],
            "text/html": [
              "\n",
              "  <div id=\"df-4fd9dcb6-c356-410f-83b6-212b390bc9a3\">\n",
              "    <div class=\"colab-df-container\">\n",
              "      <div>\n",
              "<style scoped>\n",
              "    .dataframe tbody tr th:only-of-type {\n",
              "        vertical-align: middle;\n",
              "    }\n",
              "\n",
              "    .dataframe tbody tr th {\n",
              "        vertical-align: top;\n",
              "    }\n",
              "\n",
              "    .dataframe thead th {\n",
              "        text-align: right;\n",
              "    }\n",
              "</style>\n",
              "<table border=\"1\" class=\"dataframe\">\n",
              "  <thead>\n",
              "    <tr style=\"text-align: right;\">\n",
              "      <th></th>\n",
              "      <th>date</th>\n",
              "      <th>hour</th>\n",
              "      <th>demand</th>\n",
              "      <th>month</th>\n",
              "      <th>weekday</th>\n",
              "      <th>day</th>\n",
              "      <th>IsWeekend</th>\n",
              "      <th>month_mean</th>\n",
              "      <th>weekday_mean</th>\n",
              "      <th>hourly_mean</th>\n",
              "      <th>month_min</th>\n",
              "      <th>weekday_min</th>\n",
              "      <th>hourly_min</th>\n",
              "      <th>month_max</th>\n",
              "      <th>weekday_max</th>\n",
              "      <th>hourly_max</th>\n",
              "    </tr>\n",
              "  </thead>\n",
              "  <tbody>\n",
              "    <tr>\n",
              "      <th>0</th>\n",
              "      <td>2018-08-18</td>\n",
              "      <td>9</td>\n",
              "      <td>91</td>\n",
              "      <td>8</td>\n",
              "      <td>5</td>\n",
              "      <td>18</td>\n",
              "      <td>1</td>\n",
              "      <td>62.810599</td>\n",
              "      <td>85.219729</td>\n",
              "      <td>67.789548</td>\n",
              "      <td>2</td>\n",
              "      <td>1</td>\n",
              "      <td>5</td>\n",
              "      <td>147</td>\n",
              "      <td>379</td>\n",
              "      <td>200</td>\n",
              "    </tr>\n",
              "    <tr>\n",
              "      <th>1</th>\n",
              "      <td>2018-08-18</td>\n",
              "      <td>10</td>\n",
              "      <td>21</td>\n",
              "      <td>8</td>\n",
              "      <td>5</td>\n",
              "      <td>18</td>\n",
              "      <td>1</td>\n",
              "      <td>62.810599</td>\n",
              "      <td>85.219729</td>\n",
              "      <td>71.651261</td>\n",
              "      <td>2</td>\n",
              "      <td>1</td>\n",
              "      <td>5</td>\n",
              "      <td>147</td>\n",
              "      <td>379</td>\n",
              "      <td>232</td>\n",
              "    </tr>\n",
              "    <tr>\n",
              "      <th>2</th>\n",
              "      <td>2018-08-18</td>\n",
              "      <td>13</td>\n",
              "      <td>23</td>\n",
              "      <td>8</td>\n",
              "      <td>5</td>\n",
              "      <td>18</td>\n",
              "      <td>1</td>\n",
              "      <td>62.810599</td>\n",
              "      <td>85.219729</td>\n",
              "      <td>89.341226</td>\n",
              "      <td>2</td>\n",
              "      <td>1</td>\n",
              "      <td>5</td>\n",
              "      <td>147</td>\n",
              "      <td>379</td>\n",
              "      <td>321</td>\n",
              "    </tr>\n",
              "    <tr>\n",
              "      <th>3</th>\n",
              "      <td>2018-08-18</td>\n",
              "      <td>14</td>\n",
              "      <td>104</td>\n",
              "      <td>8</td>\n",
              "      <td>5</td>\n",
              "      <td>18</td>\n",
              "      <td>1</td>\n",
              "      <td>62.810599</td>\n",
              "      <td>85.219729</td>\n",
              "      <td>88.967832</td>\n",
              "      <td>2</td>\n",
              "      <td>1</td>\n",
              "      <td>6</td>\n",
              "      <td>147</td>\n",
              "      <td>379</td>\n",
              "      <td>289</td>\n",
              "    </tr>\n",
              "    <tr>\n",
              "      <th>4</th>\n",
              "      <td>2018-08-18</td>\n",
              "      <td>15</td>\n",
              "      <td>81</td>\n",
              "      <td>8</td>\n",
              "      <td>5</td>\n",
              "      <td>18</td>\n",
              "      <td>1</td>\n",
              "      <td>62.810599</td>\n",
              "      <td>85.219729</td>\n",
              "      <td>90.808067</td>\n",
              "      <td>2</td>\n",
              "      <td>1</td>\n",
              "      <td>2</td>\n",
              "      <td>147</td>\n",
              "      <td>379</td>\n",
              "      <td>366</td>\n",
              "    </tr>\n",
              "  </tbody>\n",
              "</table>\n",
              "</div>\n",
              "      <button class=\"colab-df-convert\" onclick=\"convertToInteractive('df-4fd9dcb6-c356-410f-83b6-212b390bc9a3')\"\n",
              "              title=\"Convert this dataframe to an interactive table.\"\n",
              "              style=\"display:none;\">\n",
              "        \n",
              "  <svg xmlns=\"http://www.w3.org/2000/svg\" height=\"24px\"viewBox=\"0 0 24 24\"\n",
              "       width=\"24px\">\n",
              "    <path d=\"M0 0h24v24H0V0z\" fill=\"none\"/>\n",
              "    <path d=\"M18.56 5.44l.94 2.06.94-2.06 2.06-.94-2.06-.94-.94-2.06-.94 2.06-2.06.94zm-11 1L8.5 8.5l.94-2.06 2.06-.94-2.06-.94L8.5 2.5l-.94 2.06-2.06.94zm10 10l.94 2.06.94-2.06 2.06-.94-2.06-.94-.94-2.06-.94 2.06-2.06.94z\"/><path d=\"M17.41 7.96l-1.37-1.37c-.4-.4-.92-.59-1.43-.59-.52 0-1.04.2-1.43.59L10.3 9.45l-7.72 7.72c-.78.78-.78 2.05 0 2.83L4 21.41c.39.39.9.59 1.41.59.51 0 1.02-.2 1.41-.59l7.78-7.78 2.81-2.81c.8-.78.8-2.07 0-2.86zM5.41 20L4 18.59l7.72-7.72 1.47 1.35L5.41 20z\"/>\n",
              "  </svg>\n",
              "      </button>\n",
              "      \n",
              "  <style>\n",
              "    .colab-df-container {\n",
              "      display:flex;\n",
              "      flex-wrap:wrap;\n",
              "      gap: 12px;\n",
              "    }\n",
              "\n",
              "    .colab-df-convert {\n",
              "      background-color: #E8F0FE;\n",
              "      border: none;\n",
              "      border-radius: 50%;\n",
              "      cursor: pointer;\n",
              "      display: none;\n",
              "      fill: #1967D2;\n",
              "      height: 32px;\n",
              "      padding: 0 0 0 0;\n",
              "      width: 32px;\n",
              "    }\n",
              "\n",
              "    .colab-df-convert:hover {\n",
              "      background-color: #E2EBFA;\n",
              "      box-shadow: 0px 1px 2px rgba(60, 64, 67, 0.3), 0px 1px 3px 1px rgba(60, 64, 67, 0.15);\n",
              "      fill: #174EA6;\n",
              "    }\n",
              "\n",
              "    [theme=dark] .colab-df-convert {\n",
              "      background-color: #3B4455;\n",
              "      fill: #D2E3FC;\n",
              "    }\n",
              "\n",
              "    [theme=dark] .colab-df-convert:hover {\n",
              "      background-color: #434B5C;\n",
              "      box-shadow: 0px 1px 3px 1px rgba(0, 0, 0, 0.15);\n",
              "      filter: drop-shadow(0px 1px 2px rgba(0, 0, 0, 0.3));\n",
              "      fill: #FFFFFF;\n",
              "    }\n",
              "  </style>\n",
              "\n",
              "      <script>\n",
              "        const buttonEl =\n",
              "          document.querySelector('#df-4fd9dcb6-c356-410f-83b6-212b390bc9a3 button.colab-df-convert');\n",
              "        buttonEl.style.display =\n",
              "          google.colab.kernel.accessAllowed ? 'block' : 'none';\n",
              "\n",
              "        async function convertToInteractive(key) {\n",
              "          const element = document.querySelector('#df-4fd9dcb6-c356-410f-83b6-212b390bc9a3');\n",
              "          const dataTable =\n",
              "            await google.colab.kernel.invokeFunction('convertToInteractive',\n",
              "                                                     [key], {});\n",
              "          if (!dataTable) return;\n",
              "\n",
              "          const docLinkHtml = 'Like what you see? Visit the ' +\n",
              "            '<a target=\"_blank\" href=https://colab.research.google.com/notebooks/data_table.ipynb>data table notebook</a>'\n",
              "            + ' to learn more about interactive tables.';\n",
              "          element.innerHTML = '';\n",
              "          dataTable['output_type'] = 'display_data';\n",
              "          await google.colab.output.renderOutput(dataTable, element);\n",
              "          const docLink = document.createElement('div');\n",
              "          docLink.innerHTML = docLinkHtml;\n",
              "          element.appendChild(docLink);\n",
              "        }\n",
              "      </script>\n",
              "    </div>\n",
              "  </div>\n",
              "  "
            ]
          },
          "metadata": {},
          "execution_count": 11
        }
      ]
    },
    {
      "cell_type": "code",
      "source": [
        "print('After Feature Extraction :',validation_df.shape)\n",
        "validation_df.head()"
      ],
      "metadata": {
        "colab": {
          "base_uri": "https://localhost:8080/",
          "height": 375
        },
        "id": "QukJxytknjDS",
        "outputId": "a300f9d0-f606-41a1-ac3e-bf6f58e0092a"
      },
      "execution_count": 12,
      "outputs": [
        {
          "output_type": "stream",
          "name": "stdout",
          "text": [
            "After Feature Extraction : (3649, 16)\n"
          ]
        },
        {
          "output_type": "execute_result",
          "data": {
            "text/plain": [
              "            date  hour  demand  month  weekday  day  IsWeekend  month_mean  \\\n",
              "14598 2020-08-12     7      52      8        2   12          0   62.810599   \n",
              "14599 2020-08-12     8      90      8        2   12          0   62.810599   \n",
              "14600 2020-08-12     9      34      8        2   12          0   62.810599   \n",
              "14601 2020-08-12    10      76      8        2   12          0   62.810599   \n",
              "14602 2020-08-12    11      46      8        2   12          0   62.810599   \n",
              "\n",
              "       weekday_mean  hourly_mean  month_min  weekday_min  hourly_min  \\\n",
              "14598     66.834232    58.252322          2            2           2   \n",
              "14599     66.834232    63.270000          2            2           2   \n",
              "14600     66.834232    67.789548          2            2           5   \n",
              "14601     66.834232    71.651261          2            2           5   \n",
              "14602     66.834232    77.767181          2            2           2   \n",
              "\n",
              "       month_max  weekday_max  hourly_max  \n",
              "14598        147          313         119  \n",
              "14599        147          313         139  \n",
              "14600        147          313         200  \n",
              "14601        147          313         232  \n",
              "14602        147          313         224  "
            ],
            "text/html": [
              "\n",
              "  <div id=\"df-ba1d85de-c4b4-4961-9158-939cf743d5c9\">\n",
              "    <div class=\"colab-df-container\">\n",
              "      <div>\n",
              "<style scoped>\n",
              "    .dataframe tbody tr th:only-of-type {\n",
              "        vertical-align: middle;\n",
              "    }\n",
              "\n",
              "    .dataframe tbody tr th {\n",
              "        vertical-align: top;\n",
              "    }\n",
              "\n",
              "    .dataframe thead th {\n",
              "        text-align: right;\n",
              "    }\n",
              "</style>\n",
              "<table border=\"1\" class=\"dataframe\">\n",
              "  <thead>\n",
              "    <tr style=\"text-align: right;\">\n",
              "      <th></th>\n",
              "      <th>date</th>\n",
              "      <th>hour</th>\n",
              "      <th>demand</th>\n",
              "      <th>month</th>\n",
              "      <th>weekday</th>\n",
              "      <th>day</th>\n",
              "      <th>IsWeekend</th>\n",
              "      <th>month_mean</th>\n",
              "      <th>weekday_mean</th>\n",
              "      <th>hourly_mean</th>\n",
              "      <th>month_min</th>\n",
              "      <th>weekday_min</th>\n",
              "      <th>hourly_min</th>\n",
              "      <th>month_max</th>\n",
              "      <th>weekday_max</th>\n",
              "      <th>hourly_max</th>\n",
              "    </tr>\n",
              "  </thead>\n",
              "  <tbody>\n",
              "    <tr>\n",
              "      <th>14598</th>\n",
              "      <td>2020-08-12</td>\n",
              "      <td>7</td>\n",
              "      <td>52</td>\n",
              "      <td>8</td>\n",
              "      <td>2</td>\n",
              "      <td>12</td>\n",
              "      <td>0</td>\n",
              "      <td>62.810599</td>\n",
              "      <td>66.834232</td>\n",
              "      <td>58.252322</td>\n",
              "      <td>2</td>\n",
              "      <td>2</td>\n",
              "      <td>2</td>\n",
              "      <td>147</td>\n",
              "      <td>313</td>\n",
              "      <td>119</td>\n",
              "    </tr>\n",
              "    <tr>\n",
              "      <th>14599</th>\n",
              "      <td>2020-08-12</td>\n",
              "      <td>8</td>\n",
              "      <td>90</td>\n",
              "      <td>8</td>\n",
              "      <td>2</td>\n",
              "      <td>12</td>\n",
              "      <td>0</td>\n",
              "      <td>62.810599</td>\n",
              "      <td>66.834232</td>\n",
              "      <td>63.270000</td>\n",
              "      <td>2</td>\n",
              "      <td>2</td>\n",
              "      <td>2</td>\n",
              "      <td>147</td>\n",
              "      <td>313</td>\n",
              "      <td>139</td>\n",
              "    </tr>\n",
              "    <tr>\n",
              "      <th>14600</th>\n",
              "      <td>2020-08-12</td>\n",
              "      <td>9</td>\n",
              "      <td>34</td>\n",
              "      <td>8</td>\n",
              "      <td>2</td>\n",
              "      <td>12</td>\n",
              "      <td>0</td>\n",
              "      <td>62.810599</td>\n",
              "      <td>66.834232</td>\n",
              "      <td>67.789548</td>\n",
              "      <td>2</td>\n",
              "      <td>2</td>\n",
              "      <td>5</td>\n",
              "      <td>147</td>\n",
              "      <td>313</td>\n",
              "      <td>200</td>\n",
              "    </tr>\n",
              "    <tr>\n",
              "      <th>14601</th>\n",
              "      <td>2020-08-12</td>\n",
              "      <td>10</td>\n",
              "      <td>76</td>\n",
              "      <td>8</td>\n",
              "      <td>2</td>\n",
              "      <td>12</td>\n",
              "      <td>0</td>\n",
              "      <td>62.810599</td>\n",
              "      <td>66.834232</td>\n",
              "      <td>71.651261</td>\n",
              "      <td>2</td>\n",
              "      <td>2</td>\n",
              "      <td>5</td>\n",
              "      <td>147</td>\n",
              "      <td>313</td>\n",
              "      <td>232</td>\n",
              "    </tr>\n",
              "    <tr>\n",
              "      <th>14602</th>\n",
              "      <td>2020-08-12</td>\n",
              "      <td>11</td>\n",
              "      <td>46</td>\n",
              "      <td>8</td>\n",
              "      <td>2</td>\n",
              "      <td>12</td>\n",
              "      <td>0</td>\n",
              "      <td>62.810599</td>\n",
              "      <td>66.834232</td>\n",
              "      <td>77.767181</td>\n",
              "      <td>2</td>\n",
              "      <td>2</td>\n",
              "      <td>2</td>\n",
              "      <td>147</td>\n",
              "      <td>313</td>\n",
              "      <td>224</td>\n",
              "    </tr>\n",
              "  </tbody>\n",
              "</table>\n",
              "</div>\n",
              "      <button class=\"colab-df-convert\" onclick=\"convertToInteractive('df-ba1d85de-c4b4-4961-9158-939cf743d5c9')\"\n",
              "              title=\"Convert this dataframe to an interactive table.\"\n",
              "              style=\"display:none;\">\n",
              "        \n",
              "  <svg xmlns=\"http://www.w3.org/2000/svg\" height=\"24px\"viewBox=\"0 0 24 24\"\n",
              "       width=\"24px\">\n",
              "    <path d=\"M0 0h24v24H0V0z\" fill=\"none\"/>\n",
              "    <path d=\"M18.56 5.44l.94 2.06.94-2.06 2.06-.94-2.06-.94-.94-2.06-.94 2.06-2.06.94zm-11 1L8.5 8.5l.94-2.06 2.06-.94-2.06-.94L8.5 2.5l-.94 2.06-2.06.94zm10 10l.94 2.06.94-2.06 2.06-.94-2.06-.94-.94-2.06-.94 2.06-2.06.94z\"/><path d=\"M17.41 7.96l-1.37-1.37c-.4-.4-.92-.59-1.43-.59-.52 0-1.04.2-1.43.59L10.3 9.45l-7.72 7.72c-.78.78-.78 2.05 0 2.83L4 21.41c.39.39.9.59 1.41.59.51 0 1.02-.2 1.41-.59l7.78-7.78 2.81-2.81c.8-.78.8-2.07 0-2.86zM5.41 20L4 18.59l7.72-7.72 1.47 1.35L5.41 20z\"/>\n",
              "  </svg>\n",
              "      </button>\n",
              "      \n",
              "  <style>\n",
              "    .colab-df-container {\n",
              "      display:flex;\n",
              "      flex-wrap:wrap;\n",
              "      gap: 12px;\n",
              "    }\n",
              "\n",
              "    .colab-df-convert {\n",
              "      background-color: #E8F0FE;\n",
              "      border: none;\n",
              "      border-radius: 50%;\n",
              "      cursor: pointer;\n",
              "      display: none;\n",
              "      fill: #1967D2;\n",
              "      height: 32px;\n",
              "      padding: 0 0 0 0;\n",
              "      width: 32px;\n",
              "    }\n",
              "\n",
              "    .colab-df-convert:hover {\n",
              "      background-color: #E2EBFA;\n",
              "      box-shadow: 0px 1px 2px rgba(60, 64, 67, 0.3), 0px 1px 3px 1px rgba(60, 64, 67, 0.15);\n",
              "      fill: #174EA6;\n",
              "    }\n",
              "\n",
              "    [theme=dark] .colab-df-convert {\n",
              "      background-color: #3B4455;\n",
              "      fill: #D2E3FC;\n",
              "    }\n",
              "\n",
              "    [theme=dark] .colab-df-convert:hover {\n",
              "      background-color: #434B5C;\n",
              "      box-shadow: 0px 1px 3px 1px rgba(0, 0, 0, 0.15);\n",
              "      filter: drop-shadow(0px 1px 2px rgba(0, 0, 0, 0.3));\n",
              "      fill: #FFFFFF;\n",
              "    }\n",
              "  </style>\n",
              "\n",
              "      <script>\n",
              "        const buttonEl =\n",
              "          document.querySelector('#df-ba1d85de-c4b4-4961-9158-939cf743d5c9 button.colab-df-convert');\n",
              "        buttonEl.style.display =\n",
              "          google.colab.kernel.accessAllowed ? 'block' : 'none';\n",
              "\n",
              "        async function convertToInteractive(key) {\n",
              "          const element = document.querySelector('#df-ba1d85de-c4b4-4961-9158-939cf743d5c9');\n",
              "          const dataTable =\n",
              "            await google.colab.kernel.invokeFunction('convertToInteractive',\n",
              "                                                     [key], {});\n",
              "          if (!dataTable) return;\n",
              "\n",
              "          const docLinkHtml = 'Like what you see? Visit the ' +\n",
              "            '<a target=\"_blank\" href=https://colab.research.google.com/notebooks/data_table.ipynb>data table notebook</a>'\n",
              "            + ' to learn more about interactive tables.';\n",
              "          element.innerHTML = '';\n",
              "          dataTable['output_type'] = 'display_data';\n",
              "          await google.colab.output.renderOutput(dataTable, element);\n",
              "          const docLink = document.createElement('div');\n",
              "          docLink.innerHTML = docLinkHtml;\n",
              "          element.appendChild(docLink);\n",
              "        }\n",
              "      </script>\n",
              "    </div>\n",
              "  </div>\n",
              "  "
            ]
          },
          "metadata": {},
          "execution_count": 12
        }
      ]
    },
    {
      "cell_type": "markdown",
      "source": [
        "# Modelling"
      ],
      "metadata": {
        "id": "MBFqZCTleKj3"
      }
    },
    {
      "cell_type": "markdown",
      "source": [
        "## Data Preparation"
      ],
      "metadata": {
        "id": "yEbsvOwJedmw"
      }
    },
    {
      "cell_type": "code",
      "source": [
        "X_train, y_train = train_df.drop(['date','demand'],axis=1), train_df.demand\n",
        "print(X_train.shape, y_train.shape)\n",
        "\n",
        "X_valid, y_valid = validation_df.drop(['date','demand'],axis=1), validation_df.demand\n",
        "print(X_valid.shape, y_valid.shape)\n"
      ],
      "metadata": {
        "colab": {
          "base_uri": "https://localhost:8080/"
        },
        "id": "9nb8Xo9igg7P",
        "outputId": "ec88c93e-61ab-4612-9bc3-a098634f4607"
      },
      "execution_count": 13,
      "outputs": [
        {
          "output_type": "stream",
          "name": "stdout",
          "text": [
            "(14598, 14) (14598,)\n",
            "(3649, 14) (3649,)\n"
          ]
        }
      ]
    },
    {
      "cell_type": "markdown",
      "source": [
        "## NaN check"
      ],
      "metadata": {
        "id": "8F1K0JGsepCL"
      }
    },
    {
      "cell_type": "code",
      "source": [
        "X_train.info()"
      ],
      "metadata": {
        "colab": {
          "base_uri": "https://localhost:8080/"
        },
        "id": "wO4toSfNn4h4",
        "outputId": "bfa65548-a9e4-400c-9777-04c711bea85f"
      },
      "execution_count": null,
      "outputs": [
        {
          "output_type": "stream",
          "name": "stdout",
          "text": [
            "<class 'pandas.core.frame.DataFrame'>\n",
            "RangeIndex: 14598 entries, 0 to 14597\n",
            "Data columns (total 14 columns):\n",
            " #   Column        Non-Null Count  Dtype  \n",
            "---  ------        --------------  -----  \n",
            " 0   hour          14598 non-null  int64  \n",
            " 1   month         14598 non-null  int64  \n",
            " 2   weekday       14598 non-null  int64  \n",
            " 3   day           14598 non-null  int64  \n",
            " 4   IsWeekend     14598 non-null  int64  \n",
            " 5   month_mean    14598 non-null  float64\n",
            " 6   weekday_mean  14598 non-null  float64\n",
            " 7   hourly_mean   14598 non-null  float64\n",
            " 8   month_min     14598 non-null  int64  \n",
            " 9   weekday_min   14598 non-null  int64  \n",
            " 10  hourly_min    14598 non-null  int64  \n",
            " 11  month_max     14598 non-null  int64  \n",
            " 12  weekday_max   14598 non-null  int64  \n",
            " 13  hourly_max    14598 non-null  int64  \n",
            "dtypes: float64(3), int64(11)\n",
            "memory usage: 1.6 MB\n"
          ]
        }
      ]
    },
    {
      "cell_type": "code",
      "source": [
        "X_valid.info()"
      ],
      "metadata": {
        "colab": {
          "base_uri": "https://localhost:8080/"
        },
        "id": "Tq9quqo2e0VE",
        "outputId": "2d995b37-376d-4efd-e762-46895d227833"
      },
      "execution_count": null,
      "outputs": [
        {
          "output_type": "stream",
          "name": "stdout",
          "text": [
            "<class 'pandas.core.frame.DataFrame'>\n",
            "RangeIndex: 3649 entries, 14598 to 18246\n",
            "Data columns (total 14 columns):\n",
            " #   Column        Non-Null Count  Dtype  \n",
            "---  ------        --------------  -----  \n",
            " 0   hour          3649 non-null   int64  \n",
            " 1   month         3649 non-null   int64  \n",
            " 2   weekday       3649 non-null   int64  \n",
            " 3   day           3649 non-null   int64  \n",
            " 4   IsWeekend     3649 non-null   int64  \n",
            " 5   month_mean    3649 non-null   float64\n",
            " 6   weekday_mean  3649 non-null   float64\n",
            " 7   hourly_mean   3649 non-null   float64\n",
            " 8   month_min     3649 non-null   int64  \n",
            " 9   weekday_min   3649 non-null   int64  \n",
            " 10  hourly_min    3649 non-null   int64  \n",
            " 11  month_max     3649 non-null   int64  \n",
            " 12  weekday_max   3649 non-null   int64  \n",
            " 13  hourly_max    3649 non-null   int64  \n",
            "dtypes: float64(3), int64(11)\n",
            "memory usage: 399.2 KB\n"
          ]
        }
      ]
    },
    {
      "cell_type": "markdown",
      "source": [
        "## Utils"
      ],
      "metadata": {
        "id": "_5W_TtRYjVwb"
      }
    },
    {
      "cell_type": "code",
      "source": [
        "# plot feature importance\n",
        "\n",
        "def feature_importance_plot(model, x_train, top=10):\n",
        "  features = x_train.columns\n",
        "  importances = model.feature_importances_\n",
        "  indices = np.argsort(importances)[:top]\n",
        "\n",
        "  plt.title('Feature Importances')\n",
        "  plt.barh(range(len(indices)), importances[indices], color='b', align='center')\n",
        "  plt.yticks(range(len(indices)), [features[i] for i in indices])\n",
        "  plt.xlabel('Relative Importance')\n",
        "  plt.show()"
      ],
      "metadata": {
        "id": "3CZSwjNEhd0A"
      },
      "execution_count": 14,
      "outputs": []
    },
    {
      "cell_type": "code",
      "source": [
        "# model_training\n",
        "def model_training(model, x_train, y_train, x_valid, y_valid=pd.DataFrame(), predict_valid_data=True, plot_feature_importance=False):\n",
        "    \n",
        "  # Fitting the model\n",
        "  model.fit(x_train, y_train)\n",
        "\n",
        "  # Predict the model\n",
        "  train_pred = model.predict(x_train)\n",
        "  valid_pred = model.predict(x_valid)\n",
        "    \n",
        "  # RMSE Computation\n",
        "  train_rmse = mean_squared_error(y_train, train_pred, squared=False)\n",
        "  print(\"Train RMSE : % f\" %(train_rmse))\n",
        "\n",
        "  if predict_valid_data:\n",
        "    valid_rmse = mean_squared_error(y_valid, valid_pred, squared=False)\n",
        "    print(\"Validation RMSE : % f\" %(valid_rmse))\n",
        "\n",
        "    models_training_data['train_rmse'].append(train_rmse)\n",
        "    models_training_data['valid_rmse'].append(valid_rmse)\n",
        "\n",
        "  if plot_feature_importance:\n",
        "    feature_importance_plot(model, x_train)\n",
        "\n",
        "  return model, train_pred, valid_pred\n"
      ],
      "metadata": {
        "id": "P9UCg6E9fo_L"
      },
      "execution_count": 15,
      "outputs": []
    },
    {
      "cell_type": "markdown",
      "source": [
        "## Try ALL Models"
      ],
      "metadata": {
        "id": "lJNi5Qv1fc76"
      }
    },
    {
      "cell_type": "code",
      "source": [
        "models_training_data = {'model':[], 'train_rmse':[], 'valid_rmse':[]}"
      ],
      "metadata": {
        "id": "_8EqSiscmFRi"
      },
      "execution_count": 16,
      "outputs": []
    },
    {
      "cell_type": "markdown",
      "source": [
        "### Linear Regression\n"
      ],
      "metadata": {
        "id": "ErtdXdqknUc8"
      }
    },
    {
      "cell_type": "code",
      "source": [
        "# Linear Regression\n",
        "models_training_data['model'].append('Linear Regression')\n",
        "lr_reg, lr_reg_train_pred, lr_reg_valid_pred = model_training(LinearRegression(), X_train, y_train, X_valid, y_valid)"
      ],
      "metadata": {
        "colab": {
          "base_uri": "https://localhost:8080/"
        },
        "id": "Q1zofx0Qid6F",
        "outputId": "2c079177-08d8-4ff2-ed1e-8c36076d5482"
      },
      "execution_count": 17,
      "outputs": [
        {
          "output_type": "stream",
          "name": "stdout",
          "text": [
            "Train RMSE :  36.345533\n",
            "Validation RMSE :  40.195853\n"
          ]
        }
      ]
    },
    {
      "cell_type": "markdown",
      "source": [
        "### SupportVector Regression\n"
      ],
      "metadata": {
        "id": "sZienbjPnbGi"
      }
    },
    {
      "cell_type": "code",
      "source": [
        "# SupportVector Regression\n",
        "models_training_data['model'].append('SupportVector Regression')\n",
        "sv_reg, sv_reg_train_pred, sv_reg_valid_pred = model_training(SVR(), X_train, y_train, X_valid, y_valid)"
      ],
      "metadata": {
        "colab": {
          "base_uri": "https://localhost:8080/"
        },
        "id": "s10QXwoIj2pU",
        "outputId": "e9bb2bd2-f8e8-4cd9-cd23-2b407e134ec1"
      },
      "execution_count": 18,
      "outputs": [
        {
          "output_type": "stream",
          "name": "stdout",
          "text": [
            "Train RMSE :  37.351938\n",
            "Validation RMSE :  41.169265\n"
          ]
        }
      ]
    },
    {
      "cell_type": "markdown",
      "source": [
        "### DecisionTree Regression\n"
      ],
      "metadata": {
        "id": "x4O7urIfniHw"
      }
    },
    {
      "cell_type": "code",
      "source": [
        "# DecisionTree Regression\n",
        "models_training_data['model'].append('DecisionTree Regression')\n",
        "dt_reg, dt_reg_train_pred, dt_reg_valid_pred = model_training(DecisionTreeRegressor(max_depth=2), X_train, y_train, X_valid, y_valid)"
      ],
      "metadata": {
        "colab": {
          "base_uri": "https://localhost:8080/"
        },
        "id": "ieDKJRIjlzMv",
        "outputId": "e8d3b0ae-34e4-425b-8463-53f5a6fe0489"
      },
      "execution_count": 19,
      "outputs": [
        {
          "output_type": "stream",
          "name": "stdout",
          "text": [
            "Train RMSE :  37.542829\n",
            "Validation RMSE :  40.664987\n"
          ]
        }
      ]
    },
    {
      "cell_type": "markdown",
      "source": [
        "### RandomForest Regression"
      ],
      "metadata": {
        "id": "jGQtJWGSnzHl"
      }
    },
    {
      "cell_type": "code",
      "source": [
        "# RandomForest Regression\n",
        "models_training_data['model'].append('RandomForest Regression')\n",
        "rf_reg = RandomForestRegressor(n_estimators=1000, max_depth=7, random_state=0)\n",
        "\n",
        "rf_reg, rf_reg_train_pred, rf_reg_valid_pred = model_training(rf_reg, X_train, y_train, X_valid, y_valid, plot_feature_importance=True)"
      ],
      "metadata": {
        "colab": {
          "base_uri": "https://localhost:8080/",
          "height": 332
        },
        "id": "lK8G5lRKkW7N",
        "outputId": "34b05edd-05c8-4dac-fc19-f6d0ce250a47"
      },
      "execution_count": 20,
      "outputs": [
        {
          "output_type": "stream",
          "name": "stdout",
          "text": [
            "Train RMSE :  32.118604\n",
            "Validation RMSE :  37.956830\n"
          ]
        },
        {
          "output_type": "display_data",
          "data": {
            "text/plain": [
              "<Figure size 432x288 with 1 Axes>"
            ],
            "image/png": "[encoded data removed]"
          },
          "metadata": {
            "needs_background": "light"
          }
        }
      ]
    },
    {
      "cell_type": "markdown",
      "source": [
        "### XGBoost Regression - Hyperparameter Tuning"
      ],
      "metadata": {
        "id": "g7Mf-YOpn7Gb"
      }
    },
    {
      "cell_type": "code",
      "source": [
        "xgb_tune = xg.XGBRegressor(learning_rate =0.1, n_estimators=1000, max_depth=5, min_child_weight=1, \n",
        "                           gamma=0, subsample=0.8, colsample_bytree=0.8, objective= 'reg:squarederror',\n",
        "                           nthread=4, scale_pos_weight=1, seed=123)\n",
        "\n",
        "xgb_param = xgb_tune.get_xgb_params()\n",
        "xgtrain = xg.DMatrix(X_train.values, label=y_train.values)\n",
        "cvresult = xg.cv(xgb_param, xgtrain, num_boost_round=xgb_tune.get_params()['n_estimators'], nfold=5,\n",
        "            metrics='rmse', early_stopping_rounds=50)\n",
        "xgb_tune.set_params(n_estimators=cvresult.shape[0])\n"
      ],
      "metadata": {
        "colab": {
          "base_uri": "https://localhost:8080/"
        },
        "id": "HGzBvXWwLxGl",
        "outputId": "f1f1dca8-40f6-4d09-df4b-10ee77334ba0"
      },
      "execution_count": 21,
      "outputs": [
        {
          "output_type": "execute_result",
          "data": {
            "text/plain": [
              "XGBRegressor(colsample_bytree=0.8, max_depth=5, n_estimators=172, nthread=4,\n",
              "             objective='reg:squarederror', seed=123, subsample=0.8)"
            ]
          },
          "metadata": {},
          "execution_count": 21
        }
      ]
    },
    {
      "cell_type": "code",
      "source": [
        "#Fit the algorithm on the data\n",
        "xgb_tune.fit(X_train, y_train, eval_metric='rmse')\n",
        "        \n",
        "train_pred = xgb_tune.predict(X_train)\n",
        "valid_pred = xgb_tune.predict(X_valid)\n",
        "    \n",
        "# RMSE Computation\n",
        "train_rmse = mean_squared_error(y_train, train_pred, squared=False)\n",
        "print(\"Train RMSE : % f\" %(train_rmse))\n",
        "valid_rmse = mean_squared_error(y_valid, valid_pred, squared=False)\n",
        "print(\"Valid RMSE : % f\" %(valid_rmse))\n"
      ],
      "metadata": {
        "colab": {
          "base_uri": "https://localhost:8080/"
        },
        "id": "nLNxYt9rMcqi",
        "outputId": "5b938fac-3f5f-4e20-8244-71cfc3ba25f2"
      },
      "execution_count": 22,
      "outputs": [
        {
          "output_type": "stream",
          "name": "stdout",
          "text": [
            "Train RMSE :  29.865762\n",
            "Valid RMSE :  38.132610\n"
          ]
        }
      ]
    },
    {
      "cell_type": "code",
      "source": [
        "# XGBoost Regression\n",
        "models_training_data['model'].append('XGBoost Regression')\n",
        "xgb_reg = xg.XGBRegressor(colsample_bytree=0.8, max_depth=5, n_estimators=172, nthread=4,\n",
        "             objective='reg:squarederror', seed=123, subsample=0.8)\n",
        "\n",
        "xgb_reg, xgb_reg_train_pred, xgb_reg_valid_pred = model_training(xgb_reg, X_train, y_train, X_valid, y_valid, plot_feature_importance=True)"
      ],
      "metadata": {
        "colab": {
          "base_uri": "https://localhost:8080/",
          "height": 332
        },
        "id": "uAKndH3QlCyC",
        "outputId": "723a0462-616f-4556-9ebc-60334df0e0fd"
      },
      "execution_count": 23,
      "outputs": [
        {
          "output_type": "stream",
          "name": "stdout",
          "text": [
            "Train RMSE :  29.865762\n",
            "Validation RMSE :  38.132610\n"
          ]
        },
        {
          "output_type": "display_data",
          "data": {
            "text/plain": [
              "<Figure size 432x288 with 1 Axes>"
            ],
            "image/png": "[encoded data removed]"
          },
          "metadata": {
            "needs_background": "light"
          }
        }
      ]
    },
    {
      "cell_type": "markdown",
      "source": [
        "## Model Comparision"
      ],
      "metadata": {
        "id": "neayBuMqoHct"
      }
    },
    {
      "cell_type": "code",
      "source": [
        "pd.DataFrame(models_training_data).sort_values(['train_rmse', 'valid_rmse'])"
      ],
      "metadata": {
        "colab": {
          "base_uri": "https://localhost:8080/",
          "height": 206
        },
        "id": "Z7gB1Y8wlTi-",
        "outputId": "e17316ff-71f7-40dc-f640-2b1902566101"
      },
      "execution_count": 24,
      "outputs": [
        {
          "output_type": "execute_result",
          "data": {
            "text/plain": [
              "                      model  train_rmse  valid_rmse\n",
              "4        XGBoost Regression   29.865762   38.132610\n",
              "3   RandomForest Regression   32.118604   37.956830\n",
              "0         Linear Regression   36.345533   40.195853\n",
              "1  SupportVector Regression   37.351938   41.169265\n",
              "2   DecisionTree Regression   37.542829   40.664987"
            ],
            "text/html": [
              "\n",
              "  <div id=\"df-dd930a2d-34d3-46fc-8d75-26c80b6f2208\">\n",
              "    <div class=\"colab-df-container\">\n",
              "      <div>\n",
              "<style scoped>\n",
              "    .dataframe tbody tr th:only-of-type {\n",
              "        vertical-align: middle;\n",
              "    }\n",
              "\n",
              "    .dataframe tbody tr th {\n",
              "        vertical-align: top;\n",
              "    }\n",
              "\n",
              "    .dataframe thead th {\n",
              "        text-align: right;\n",
              "    }\n",
              "</style>\n",
              "<table border=\"1\" class=\"dataframe\">\n",
              "  <thead>\n",
              "    <tr style=\"text-align: right;\">\n",
              "      <th></th>\n",
              "      <th>model</th>\n",
              "      <th>train_rmse</th>\n",
              "      <th>valid_rmse</th>\n",
              "    </tr>\n",
              "  </thead>\n",
              "  <tbody>\n",
              "    <tr>\n",
              "      <th>4</th>\n",
              "      <td>XGBoost Regression</td>\n",
              "      <td>29.865762</td>\n",
              "      <td>38.132610</td>\n",
              "    </tr>\n",
              "    <tr>\n",
              "      <th>3</th>\n",
              "      <td>RandomForest Regression</td>\n",
              "      <td>32.118604</td>\n",
              "      <td>37.956830</td>\n",
              "    </tr>\n",
              "    <tr>\n",
              "      <th>0</th>\n",
              "      <td>Linear Regression</td>\n",
              "      <td>36.345533</td>\n",
              "      <td>40.195853</td>\n",
              "    </tr>\n",
              "    <tr>\n",
              "      <th>1</th>\n",
              "      <td>SupportVector Regression</td>\n",
              "      <td>37.351938</td>\n",
              "      <td>41.169265</td>\n",
              "    </tr>\n",
              "    <tr>\n",
              "      <th>2</th>\n",
              "      <td>DecisionTree Regression</td>\n",
              "      <td>37.542829</td>\n",
              "      <td>40.664987</td>\n",
              "    </tr>\n",
              "  </tbody>\n",
              "</table>\n",
              "</div>\n",
              "      <button class=\"colab-df-convert\" onclick=\"convertToInteractive('df-dd930a2d-34d3-46fc-8d75-26c80b6f2208')\"\n",
              "              title=\"Convert this dataframe to an interactive table.\"\n",
              "              style=\"display:none;\">\n",
              "        \n",
              "  <svg xmlns=\"http://www.w3.org/2000/svg\" height=\"24px\"viewBox=\"0 0 24 24\"\n",
              "       width=\"24px\">\n",
              "    <path d=\"M0 0h24v24H0V0z\" fill=\"none\"/>\n",
              "    <path d=\"M18.56 5.44l.94 2.06.94-2.06 2.06-.94-2.06-.94-.94-2.06-.94 2.06-2.06.94zm-11 1L8.5 8.5l.94-2.06 2.06-.94-2.06-.94L8.5 2.5l-.94 2.06-2.06.94zm10 10l.94 2.06.94-2.06 2.06-.94-2.06-.94-.94-2.06-.94 2.06-2.06.94z\"/><path d=\"M17.41 7.96l-1.37-1.37c-.4-.4-.92-.59-1.43-.59-.52 0-1.04.2-1.43.59L10.3 9.45l-7.72 7.72c-.78.78-.78 2.05 0 2.83L4 21.41c.39.39.9.59 1.41.59.51 0 1.02-.2 1.41-.59l7.78-7.78 2.81-2.81c.8-.78.8-2.07 0-2.86zM5.41 20L4 18.59l7.72-7.72 1.47 1.35L5.41 20z\"/>\n",
              "  </svg>\n",
              "      </button>\n",
              "      \n",
              "  <style>\n",
              "    .colab-df-container {\n",
              "      display:flex;\n",
              "      flex-wrap:wrap;\n",
              "      gap: 12px;\n",
              "    }\n",
              "\n",
              "    .colab-df-convert {\n",
              "      background-color: #E8F0FE;\n",
              "      border: none;\n",
              "      border-radius: 50%;\n",
              "      cursor: pointer;\n",
              "      display: none;\n",
              "      fill: #1967D2;\n",
              "      height: 32px;\n",
              "      padding: 0 0 0 0;\n",
              "      width: 32px;\n",
              "    }\n",
              "\n",
              "    .colab-df-convert:hover {\n",
              "      background-color: #E2EBFA;\n",
              "      box-shadow: 0px 1px 2px rgba(60, 64, 67, 0.3), 0px 1px 3px 1px rgba(60, 64, 67, 0.15);\n",
              "      fill: #174EA6;\n",
              "    }\n",
              "\n",
              "    [theme=dark] .colab-df-convert {\n",
              "      background-color: #3B4455;\n",
              "      fill: #D2E3FC;\n",
              "    }\n",
              "\n",
              "    [theme=dark] .colab-df-convert:hover {\n",
              "      background-color: #434B5C;\n",
              "      box-shadow: 0px 1px 3px 1px rgba(0, 0, 0, 0.15);\n",
              "      filter: drop-shadow(0px 1px 2px rgba(0, 0, 0, 0.3));\n",
              "      fill: #FFFFFF;\n",
              "    }\n",
              "  </style>\n",
              "\n",
              "      <script>\n",
              "        const buttonEl =\n",
              "          document.querySelector('#df-dd930a2d-34d3-46fc-8d75-26c80b6f2208 button.colab-df-convert');\n",
              "        buttonEl.style.display =\n",
              "          google.colab.kernel.accessAllowed ? 'block' : 'none';\n",
              "\n",
              "        async function convertToInteractive(key) {\n",
              "          const element = document.querySelector('#df-dd930a2d-34d3-46fc-8d75-26c80b6f2208');\n",
              "          const dataTable =\n",
              "            await google.colab.kernel.invokeFunction('convertToInteractive',\n",
              "                                                     [key], {});\n",
              "          if (!dataTable) return;\n",
              "\n",
              "          const docLinkHtml = 'Like what you see? Visit the ' +\n",
              "            '<a target=\"_blank\" href=https://colab.research.google.com/notebooks/data_table.ipynb>data table notebook</a>'\n",
              "            + ' to learn more about interactive tables.';\n",
              "          element.innerHTML = '';\n",
              "          dataTable['output_type'] = 'display_data';\n",
              "          await google.colab.output.renderOutput(dataTable, element);\n",
              "          const docLink = document.createElement('div');\n",
              "          docLink.innerHTML = docLinkHtml;\n",
              "          element.appendChild(docLink);\n",
              "        }\n",
              "      </script>\n",
              "    </div>\n",
              "  </div>\n",
              "  "
            ]
          },
          "metadata": {},
          "execution_count": 24
        }
      ]
    },
    {
      "cell_type": "markdown",
      "source": [
        "# Submission"
      ],
      "metadata": {
        "id": "lv_v0JHBpVY1"
      }
    },
    {
      "cell_type": "markdown",
      "source": [
        "## Data Preparaion"
      ],
      "metadata": {
        "id": "WKvcjCRNpa-u"
      }
    },
    {
      "cell_type": "code",
      "source": [
        "# extraction of features\n",
        "df, test_df = get_date_features(df, test_df)\n",
        "df, test = get_statistical_features(df, test_df)"
      ],
      "metadata": {
        "id": "ScIY5Yv5pq4f"
      },
      "execution_count": 25,
      "outputs": []
    },
    {
      "cell_type": "code",
      "source": [
        "# data preparation\n",
        "X, y = df.drop(['date','demand'],axis=1), df.demand\n",
        "print(X.shape, y.shape)\n",
        "\n",
        "X_test = test_df.drop(['date'],axis=1)\n",
        "print(X_test.shape)\n"
      ],
      "metadata": {
        "colab": {
          "base_uri": "https://localhost:8080/"
        },
        "id": "sJau1bK81b6u",
        "outputId": "20c1f44a-022d-4fe8-d9bc-34b8b409d597"
      },
      "execution_count": 26,
      "outputs": [
        {
          "output_type": "stream",
          "name": "stdout",
          "text": [
            "(18247, 14) (18247,)\n",
            "(7650, 14)\n"
          ]
        }
      ]
    },
    {
      "cell_type": "markdown",
      "source": [
        "## Final Model Training"
      ],
      "metadata": {
        "id": "6OmrWjttqFhV"
      }
    },
    {
      "cell_type": "markdown",
      "source": [
        "### XGBoost Regression - Submission\n",
        "    LeaderBorad Score - 33.3522051148776"
      ],
      "metadata": {
        "id": "8U05gVK2HrXh"
      }
    },
    {
      "cell_type": "code",
      "source": [
        "final_model = xg.XGBRegressor(learning_rate =0.1, n_estimators=1000, max_depth=5, min_child_weight=1, \n",
        "                           gamma=0, subsample=0.8, colsample_bytree=0.8, objective= 'reg:squarederror',\n",
        "                           nthread=4, scale_pos_weight=1, seed=123)\n",
        "\n",
        "xgb_param = final_model.get_xgb_params()\n",
        "xgtrain = xg.DMatrix(X.values, label=y.values)\n",
        "cvresult = xg.cv(xgb_param, xgtrain, num_boost_round=final_model.get_params()['n_estimators'], nfold=5,\n",
        "            metrics='rmse', early_stopping_rounds=50)\n",
        "final_model.set_params(n_estimators=cvresult.shape[0])\n"
      ],
      "metadata": {
        "colab": {
          "base_uri": "https://localhost:8080/"
        },
        "id": "TRg_a5QHNUNp",
        "outputId": "578c2d40-37e8-4c27-9a35-62c944d9287f"
      },
      "execution_count": 27,
      "outputs": [
        {
          "output_type": "execute_result",
          "data": {
            "text/plain": [
              "XGBRegressor(colsample_bytree=0.8, max_depth=5, n_estimators=142, nthread=4,\n",
              "             objective='reg:squarederror', seed=123, subsample=0.8)"
            ]
          },
          "metadata": {},
          "execution_count": 27
        }
      ]
    },
    {
      "cell_type": "code",
      "source": [
        "#Fit the algorithm on the data\n",
        "final_model.fit(X, y, eval_metric='rmse')\n",
        "        \n",
        "train_pred = final_model.predict(X)\n",
        "    \n",
        "# RMSE Computation\n",
        "train_rmse = mean_squared_error(y, train_pred, squared=False)\n",
        "print(\"Train RMSE : % f\" %(train_rmse))\n"
      ],
      "metadata": {
        "colab": {
          "base_uri": "https://localhost:8080/"
        },
        "id": "iMdH4GKVNuG8",
        "outputId": "3abc2949-0aa7-45f2-ea0b-3b67642cb3e5"
      },
      "execution_count": 28,
      "outputs": [
        {
          "output_type": "stream",
          "name": "stdout",
          "text": [
            "Train RMSE :  31.382865\n"
          ]
        }
      ]
    },
    {
      "cell_type": "code",
      "source": [
        "# XGBoost Regression\n",
        "final_model = xg.XGBRegressor(colsample_bytree=0.8, max_depth=5, n_estimators=224, nthread=4,\n",
        "             objective='reg:squarederror', seed=123, subsample=0.8)\n",
        "final_model, _, test_df['demand'] = model_training(final_model, X, y, X_test, predict_valid_data=False, plot_feature_importance=True)"
      ],
      "metadata": {
        "colab": {
          "base_uri": "https://localhost:8080/",
          "height": 313
        },
        "id": "3oIsRtYtqNfh",
        "outputId": "5d4ca45c-87ca-45e5-b3b5-482e962a201e"
      },
      "execution_count": 30,
      "outputs": [
        {
          "output_type": "stream",
          "name": "stdout",
          "text": [
            "Train RMSE :  30.611248\n"
          ]
        },
        {
          "output_type": "display_data",
          "data": {
            "text/plain": [
              "<Figure size 432x288 with 1 Axes>"
            ],
            "image/png": "[encoded data removed]"
          },
          "metadata": {
            "needs_background": "light"
          }
        }
      ]
    },
    {
      "cell_type": "code",
      "source": [
        "#### Export CSV File\n",
        "description = 'xgb_tuning_with_bare_plus_basic_statistical_features'\n",
        "submission_date = '24_April'\n",
        "version_number = 'v2'\n",
        "csv_file_name = f'{description}_{submission_date}_{version_number}.csv'\n",
        "required_features = ['date', 'hour', 'demand']\n",
        "\n",
        "test_df['demand'] = final_model.predict(X_test)\n",
        "test_df[required_features].to_csv(csv_file_name, index=False)"
      ],
      "metadata": {
        "id": "mqlnRdpd3fJ2"
      },
      "execution_count": 31,
      "outputs": []
    }
  ]
}